{
 "cells": [
  {
   "cell_type": "markdown",
   "metadata": {},
   "source": [
    "#### Importando as bibliotecas necessarias"
   ]
  },
  {
   "cell_type": "code",
   "execution_count": null,
   "metadata": {},
   "outputs": [],
   "source": [
    "from google.oauth2 import service_account\n",
    "from google.cloud import bigquery\n",
    "import pandas as pd\n",
    "import pandas_gbq\n",
    "import csv"
   ]
  },
  {
   "cell_type": "code",
   "execution_count": null,
   "metadata": {},
   "outputs": [],
   "source": [
    "#Lendo o arquivo de receita.\n",
    "df_receita = pd.read_csv(r\"D:\\projetos_python\\esfera_gcp\\arquivos_tratar\\gdvReceitasExcel.csv\", encoding='ISO-8859-1', sep = ',')"
   ]
  },
  {
   "cell_type": "code",
   "execution_count": null,
   "metadata": {},
   "outputs": [],
   "source": [
    "#Lendo o arquivo de despesa\n",
    "df_despesas = pd.read_csv(r\"D:\\projetos_python\\esfera_gcp\\arquivos_tratar\\gdvDespesasExcel.csv\", encoding='ISO-8859-1', sep = ',')"
   ]
  },
  {
   "cell_type": "markdown",
   "metadata": {},
   "source": [
    "#### Lendo os arquivos e colocando em dataframes"
   ]
  },
  {
   "cell_type": "code",
   "execution_count": null,
   "metadata": {},
   "outputs": [],
   "source": [
    "#Lendo o arquivo de receita.\n",
    "df_receita = pd.read_csv(r\"D:\\projetos_python\\esfera_gcp\\arquivos_tratar\\gdvReceitasExcel.csv\", encoding='ISO-8859-1', sep = ',')"
   ]
  },
  {
   "cell_type": "code",
   "execution_count": null,
   "metadata": {},
   "outputs": [],
   "source": [
    "#Lendo o arquivo de despesa\n",
    "df_despesas = pd.read_csv(r\"D:\\projetos_python\\esfera_gcp\\arquivos_tratar\\gdvDespesasExcel.csv\", encoding='ISO-8859-1', sep = ',')"
   ]
  },
  {
   "cell_type": "markdown",
   "metadata": {},
   "source": [
    "#### Checando o cabeçalho e o final do arquivo"
   ]
  },
  {
   "cell_type": "code",
   "execution_count": null,
   "metadata": {},
   "outputs": [],
   "source": [
    "df_receita.head(2)"
   ]
  },
  {
   "cell_type": "code",
   "execution_count": null,
   "metadata": {},
   "outputs": [],
   "source": [
    "df_receita.tail(2)"
   ]
  },
  {
   "cell_type": "code",
   "execution_count": null,
   "metadata": {},
   "outputs": [],
   "source": [
    "df_despesas.head(2)"
   ]
  },
  {
   "cell_type": "code",
   "execution_count": null,
   "metadata": {},
   "outputs": [],
   "source": [
    "df_despesas.tail(2)"
   ]
  },
  {
   "cell_type": "markdown",
   "metadata": {},
   "source": [
    "#### Renomeando colunas"
   ]
  },
  {
   "cell_type": "code",
   "execution_count": null,
   "metadata": {},
   "outputs": [],
   "source": [
    "df_receita = df_receita.rename(columns={'Fonte de Recursos':\"fonte_recursos\",'Receita':\"tipo_receita\",'Arrecadado até 02/02/2024':\"arrecadado\"})"
   ]
  },
  {
   "cell_type": "code",
   "execution_count": null,
   "metadata": {},
   "outputs": [],
   "source": [
    "#Renomeando todas as colunas do df.\n",
    "df_despesas = df_despesas.rename(columns={'Fonte de Recursos':\"fonte_recursos\",'Despesa':\"tipo_despesa\",'Liquidado':\"liquidado\"})"
   ]
  },
  {
   "cell_type": "code",
   "execution_count": null,
   "metadata": {},
   "outputs": [],
   "source": [
    "#### Checando as colunas renomeadas\n",
    "df_receita.head(1)"
   ]
  },
  {
   "cell_type": "code",
   "execution_count": null,
   "metadata": {},
   "outputs": [],
   "source": [
    "df_despesas.head(1)"
   ]
  },
  {
   "cell_type": "markdown",
   "metadata": {},
   "source": [
    "#### Removendo colunas com dados nulos"
   ]
  },
  {
   "cell_type": "code",
   "execution_count": null,
   "metadata": {},
   "outputs": [],
   "source": [
    "#Removendo coluna Unnamed no dataframe receita\n",
    "df_receita = df_receita.drop('Unnamed: 3', axis=1)"
   ]
  },
  {
   "cell_type": "code",
   "execution_count": null,
   "metadata": {},
   "outputs": [],
   "source": [
    "df_despesas= df_despesas.drop('Unnamed: 3', axis=1)"
   ]
  },
  {
   "cell_type": "markdown",
   "metadata": {},
   "source": [
    "#### Removendo linha com os totais"
   ]
  },
  {
   "cell_type": "code",
   "execution_count": null,
   "metadata": {},
   "outputs": [],
   "source": [
    "df_receita.tail(1)"
   ]
  },
  {
   "cell_type": "code",
   "execution_count": null,
   "metadata": {},
   "outputs": [],
   "source": [
    "df_receita = df_receita.drop(df_despesas.index[284])"
   ]
  },
  {
   "cell_type": "code",
   "execution_count": null,
   "metadata": {},
   "outputs": [],
   "source": [
    "df_despesas.tail(1)"
   ]
  },
  {
   "cell_type": "code",
   "execution_count": null,
   "metadata": {},
   "outputs": [],
   "source": [
    "df_despesas = df_despesas.drop(df_despesas.index[2034])"
   ]
  },
  {
   "cell_type": "markdown",
   "metadata": {},
   "source": [
    "#### Melhorando os campos do tipo string"
   ]
  },
  {
   "cell_type": "code",
   "execution_count": null,
   "metadata": {},
   "outputs": [],
   "source": [
    "def normalize_text(text):\n",
    "    text = text.lower()\n",
    "    text = text.replace('á', 'a').replace('à', 'a').replace('â', 'a').replace('ã', 'a')\n",
    "    text = text.replace('é', 'e').replace('è', 'e').replace('ê', 'e')\n",
    "    text = text.replace('í', 'i').replace('ì', 'i').replace('î', 'i')\n",
    "    text = text.replace('ó', 'o').replace('ò', 'o').replace('ô', 'o').replace('õ', 'o')\n",
    "    text = text.replace('ú', 'u').replace('ù', 'u').replace('û', 'u')\n",
    "    text = text.replace('ç', 'c')\n",
    "    text = text.replace('ñ', 'n')\n",
    "    text = text.replace(' ', '_')\n",
    "    return text"
   ]
  },
  {
   "cell_type": "code",
   "execution_count": null,
   "metadata": {},
   "outputs": [],
   "source": [
    "df_receita['fonte_recursos'] = df_receita['fonte_recursos'].str.strip().apply(normalize_text)\n",
    "df_receita['tipo_receita'] = df_receita['tipo_receita'].str.strip().apply(normalize_text)"
   ]
  },
  {
   "cell_type": "code",
   "execution_count": null,
   "metadata": {},
   "outputs": [],
   "source": [
    "df_despesas['fonte_recursos'] = df_despesas['fonte_recursos'].str.strip().apply(normalize_text)\n",
    "df_despesas['tipo_despesa'] = df_despesas['tipo_despesa'].str.strip().apply(normalize_text)"
   ]
  },
  {
   "cell_type": "markdown",
   "metadata": {},
   "source": [
    "#### Removendo os espaços em branco e tratando casas decimais"
   ]
  },
  {
   "cell_type": "code",
   "execution_count": null,
   "metadata": {},
   "outputs": [],
   "source": [
    "#Removendo os espaços em branco, tratando o problema nas casas decimais e convertendo para o tipo float.\n",
    "df_receita['arrecadado'] = df_receita['arrecadado'].str.strip().replace({r'\\.': '', ',': '.'}, regex=True).astype(float)"
   ]
  },
  {
   "cell_type": "code",
   "execution_count": null,
   "metadata": {},
   "outputs": [],
   "source": [
    "df_despesas['liquidado'] = df_despesas['liquidado'].str.strip().replace({r'\\.': '', ',': '.'}, regex=True).astype(float)"
   ]
  },
  {
   "cell_type": "markdown",
   "metadata": {},
   "source": [
    "#### Checando o valor total"
   ]
  },
  {
   "cell_type": "code",
   "execution_count": null,
   "metadata": {},
   "outputs": [],
   "source": [
    "df_receita['arrecadado'].sum()"
   ]
  },
  {
   "cell_type": "code",
   "execution_count": null,
   "metadata": {},
   "outputs": [],
   "source": [
    "df_despesas['liquidado'].sum()"
   ]
  },
  {
   "cell_type": "markdown",
   "metadata": {},
   "source": [
    "### Agora vamos fazer o envio desse dataset para o bigquery como solução de banco de dados."
   ]
  },
  {
   "cell_type": "code",
   "execution_count": null,
   "metadata": {},
   "outputs": [],
   "source": [
    "SCOPES = [\n",
    "    'https://www.googleapis.com/auth/cloud-platform'\n",
    "]\n",
    "\n",
    "credentials = service_account.Credentials.from_service_account_file(\n",
    "    r\"C:\\Users\\Iago_\\Downloads\\mystudentproject-292517-e8c3c9cd7791.json\"\n",
    ")\n",
    "\n",
    "pandas_gbq.context.credentials = credentials\n",
    "pandas_gbq.project = \"mystudentproject-292517\""
   ]
  },
  {
   "cell_type": "code",
   "execution_count": null,
   "metadata": {},
   "outputs": [],
   "source": [
    "# Crie um cliente BigQuery\n",
    "client = bigquery.Client(credentials=credentials, project=\"mystudentproject-292517\")"
   ]
  },
  {
   "cell_type": "code",
   "execution_count": null,
   "metadata": {},
   "outputs": [],
   "source": [
    "# Defina o nome do dataset (conjunto de dados)\n",
    "dataset_id = \"mystudentproject-292517.teste_esfera\""
   ]
  },
  {
   "cell_type": "code",
   "execution_count": null,
   "metadata": {},
   "outputs": [],
   "source": [
    "# Crie o objeto Dataset\n",
    "dataset = bigquery.Dataset(dataset_id)"
   ]
  },
  {
   "cell_type": "code",
   "execution_count": null,
   "metadata": {},
   "outputs": [],
   "source": [
    "# Crie o dataset no BigQuery\n",
    "dataset = client.create_dataset(dataset, timeout=30)"
   ]
  },
  {
   "cell_type": "markdown",
   "metadata": {},
   "source": [
    "#### Criando a tabela db_receita"
   ]
  },
  {
   "cell_type": "code",
   "execution_count": null,
   "metadata": {},
   "outputs": [],
   "source": [
    "# Criando o objeto table \n",
    "table_id = f\"{dataset_id}.db_receita\""
   ]
  },
  {
   "cell_type": "code",
   "execution_count": null,
   "metadata": {},
   "outputs": [],
   "source": [
    "#Definindo o schema da tabela\n",
    "schema = [\n",
    "    bigquery.SchemaField(\"fonte_recursos\", \"STRING\", mode=\"NULLABLE\"),\n",
    "    bigquery.SchemaField(\"tipo_receita\", \"STRING\", mode=\"NULLABLE\"),\n",
    "    bigquery.SchemaField(\"arrecadado\", \"FLOAT\", mode=\"NULLABLE\"),\n",
    "]"
   ]
  },
  {
   "cell_type": "markdown",
   "metadata": {},
   "source": [
    "#### Criando a tabela db_despesa"
   ]
  },
  {
   "cell_type": "code",
   "execution_count": null,
   "metadata": {},
   "outputs": [],
   "source": [
    "table_id = f\"{dataset_id}.db_despesa\""
   ]
  },
  {
   "cell_type": "code",
   "execution_count": null,
   "metadata": {},
   "outputs": [],
   "source": [
    "schema = [\n",
    "    bigquery.SchemaField(\"fonte_recursos\", \"STRING\", mode=\"NULLABLE\"),\n",
    "    bigquery.SchemaField(\"tipo_despesa\", \"STRING\", mode=\"NULLABLE\"),\n",
    "    bigquery.SchemaField(\"liquidado\", \"FLOAT\", mode=\"NULLABLE\"),\n",
    "]"
   ]
  },
  {
   "cell_type": "markdown",
   "metadata": {},
   "source": [
    "#### Execute a criação da tabela uma de cada vez"
   ]
  },
  {
   "cell_type": "code",
   "execution_count": null,
   "metadata": {},
   "outputs": [],
   "source": [
    "# Crie o objeto Table referenciando o dataset e o nome da tabela\n",
    "table = bigquery.Table(table_id, schema=schema)"
   ]
  },
  {
   "cell_type": "code",
   "execution_count": null,
   "metadata": {},
   "outputs": [],
   "source": [
    "# Crie a tabela no BigQuery\n",
    "table = client.create_table(table)"
   ]
  },
  {
   "cell_type": "markdown",
   "metadata": {},
   "source": [
    "#### Realizando o envio para o bq"
   ]
  },
  {
   "cell_type": "code",
   "execution_count": null,
   "metadata": {},
   "outputs": [],
   "source": [
    "pandas_gbq.to_gbq(df_despesas, 'teste_esfera.db_despesa', project_id='mystudentproject-292517', if_exists='replace')"
   ]
  },
  {
   "cell_type": "code",
   "execution_count": null,
   "metadata": {},
   "outputs": [],
   "source": [
    "pandas_gbq.to_gbq(df_receita, 'teste_esfera.db_receita', project_id='mystudentproject-292517', if_exists='replace')"
   ]
  }
 ],
 "metadata": {
  "language_info": {
   "name": "python"
  }
 },
 "nbformat": 4,
 "nbformat_minor": 2
}
